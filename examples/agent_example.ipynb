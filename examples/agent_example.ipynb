{
 "cells": [
  {
   "cell_type": "markdown",
   "metadata": {},
   "source": [
    "# Example of using Agent node"
   ]
  },
  {
   "cell_type": "code",
   "execution_count": 1,
   "metadata": {},
   "outputs": [
    {
     "name": "stderr",
     "output_type": "stream",
     "text": [
      "/Users/s.jiang/Development/aic-flow/.venv/lib/python3.12/site-packages/pydantic/_internal/_fields.py:198: UserWarning: Field name \"schema\" in \"StructuredOutput\" shadows an attribute in parent \"BaseModel\"\n",
      "  warnings.warn(\n"
     ]
    }
   ],
   "source": [
    "import os\n",
    "from dotenv import load_dotenv\n",
    "from aic_flow.nodes.ai import Agent\n",
    "from aic_flow.nodes.telegram import MessageTelegram\n",
    "\n",
    "\n",
    "load_dotenv()\n",
    "\n",
    "\n",
    "model_config = {\n",
    "    \"model\": \"gpt-4o-mini\",\n",
    "    \"api_key\": os.getenv(\"OPENAI_API_KEY\"),\n",
    "}"
   ]
  },
  {
   "cell_type": "markdown",
   "metadata": {},
   "source": [
    "## Structured output with vanilla JSON dict"
   ]
  },
  {
   "cell_type": "code",
   "execution_count": 2,
   "metadata": {},
   "outputs": [
    {
     "data": {
      "text/plain": [
       "{'name': 'John Doe'}"
      ]
     },
     "execution_count": 2,
     "metadata": {},
     "output_type": "execute_result"
    }
   ],
   "source": [
    "so_schema = \"\"\"\n",
    "json_dict = {\n",
    "    \"type\": \"object\",\n",
    "    \"title\": \"Person\",\n",
    "    \"description\": \"A person\",\n",
    "    \"properties\": {\n",
    "        \"name\": {\"type\": \"string\"},\n",
    "    },\n",
    "    \"required\": [\"name\"],\n",
    "}\n",
    "\"\"\"\n",
    "\n",
    "so_config = {\n",
    "    \"type\": \"json_dict\",\n",
    "    \"schema\": so_schema,\n",
    "}\n",
    "\n",
    "agent_node = Agent(\n",
    "    name=\"agent\",\n",
    "    model_config=model_config,\n",
    "    structured_output=so_config,\n",
    "    system_prompt=\"Your name is John Doe.\",\n",
    "    checkpointer=\"memory\",\n",
    ")\n",
    "config = {\"configurable\": {\"thread_id\": \"123\"}}\n",
    "result = await agent_node(\n",
    "    {\"messages\": [{\"role\": \"user\", \"content\": \"What's your name?\"}]}, config\n",
    ")\n",
    "\n",
    "result[\"structured_response\"]"
   ]
  },
  {
   "cell_type": "markdown",
   "metadata": {},
   "source": [
    "## Structured output with OpenAI JSON dict"
   ]
  },
  {
   "cell_type": "code",
   "execution_count": 3,
   "metadata": {},
   "outputs": [
    {
     "data": {
      "text/plain": [
       "{'name': 'John Doe'}"
      ]
     },
     "execution_count": 3,
     "metadata": {},
     "output_type": "execute_result"
    }
   ],
   "source": [
    "so_schema = \"\"\"\n",
    "oai_json_schema = {\n",
    "    \"name\": \"get_person\",\n",
    "    \"strict\": True,\n",
    "    \"schema\": {\n",
    "        \"type\": \"object\",\n",
    "        \"properties\": {\"name\": {\"type\": \"string\"}},\n",
    "        \"additionalProperties\": False,\n",
    "        \"required\": [\"name\"],\n",
    "    },\n",
    "}\n",
    "\"\"\"\n",
    "\n",
    "so_config = {\n",
    "    \"type\": \"json_dict\",\n",
    "    \"schema\": so_schema,\n",
    "}\n",
    "\n",
    "agent_node = Agent(\n",
    "    name=\"agent\",\n",
    "    model_config=model_config,\n",
    "    structured_output=so_config,\n",
    "    system_prompt=\"Your name is John Doe.\",\n",
    "    checkpointer=\"memory\",\n",
    ")\n",
    "config = {\"configurable\": {\"thread_id\": \"123\"}}\n",
    "result = await agent_node(\n",
    "    {\"messages\": [{\"role\": \"user\", \"content\": \"What's your name?\"}]}, config\n",
    ")\n",
    "\n",
    "result[\"structured_response\"]"
   ]
  },
  {
   "cell_type": "markdown",
   "metadata": {},
   "source": [
    "## Structured output with Pydantic Models"
   ]
  },
  {
   "cell_type": "code",
   "execution_count": 4,
   "metadata": {},
   "outputs": [
    {
     "data": {
      "text/plain": [
       "Person(name='John Doe')"
      ]
     },
     "execution_count": 4,
     "metadata": {},
     "output_type": "execute_result"
    }
   ],
   "source": [
    "so_schema = \"\"\"\n",
    "class Person(BaseModel):\n",
    "    \\\"\\\"\\\"A Person.\\\"\\\"\\\"\n",
    "\n",
    "    name: str\n",
    "\"\"\"\n",
    "\n",
    "so_config = {\n",
    "    \"type\": \"json_dict\",\n",
    "    \"schema\": so_schema,\n",
    "}\n",
    "\n",
    "agent_node = Agent(\n",
    "    name=\"agent\",\n",
    "    model_config=model_config,\n",
    "    structured_output=so_config,\n",
    "    system_prompt=\"Your name is John Doe.\",\n",
    "    checkpointer=\"memory\",\n",
    ")\n",
    "config = {\"configurable\": {\"thread_id\": \"123\"}}\n",
    "result = await agent_node(\n",
    "    {\"messages\": [{\"role\": \"user\", \"content\": \"What's your name?\"}]}, config\n",
    ")\n",
    "\n",
    "result[\"structured_response\"]"
   ]
  },
  {
   "cell_type": "markdown",
   "metadata": {},
   "source": [
    "## Structured output with Typed dict"
   ]
  },
  {
   "cell_type": "code",
   "execution_count": 5,
   "metadata": {},
   "outputs": [
    {
     "data": {
      "text/plain": [
       "{'name': 'John Doe'}"
      ]
     },
     "execution_count": 5,
     "metadata": {},
     "output_type": "execute_result"
    }
   ],
   "source": [
    "so_schema = \"\"\"\n",
    "class Person(TypedDict):\n",
    "    \\\"\\\"\\\"A Person.\\\"\\\"\\\"\n",
    "\n",
    "    name: str\n",
    "\"\"\"\n",
    "\n",
    "so_config = {\n",
    "    \"type\": \"json_dict\",\n",
    "    \"schema\": so_schema,\n",
    "}\n",
    "\n",
    "agent_node = Agent(\n",
    "    name=\"agent\",\n",
    "    model_config=model_config,\n",
    "    structured_output=so_config,\n",
    "    system_prompt=\"Your name is John Doe.\",\n",
    "    checkpointer=\"memory\",\n",
    ")\n",
    "config = {\"configurable\": {\"thread_id\": \"123\"}}\n",
    "result = await agent_node(\n",
    "    {\"messages\": [{\"role\": \"user\", \"content\": \"What's your name?\"}]}, config\n",
    ")\n",
    "\n",
    "result[\"structured_response\"]"
   ]
  },
  {
   "cell_type": "markdown",
   "metadata": {},
   "source": [
    "## Use a node as a tool"
   ]
  },
  {
   "cell_type": "markdown",
   "metadata": {},
   "source": [
    "Main differences of a graph node and a function tool: A graph node only receives `state: dict` as input, and returns a dict, while a function tool can have arbitrary inputs."
   ]
  },
  {
   "cell_type": "code",
   "execution_count": 6,
   "metadata": {},
   "outputs": [
    {
     "name": "stdout",
     "output_type": "stream",
     "text": [
      "{'agent': {'messages': [HumanMessage(content='Say hello to None', additional_kwargs={}, response_metadata={}, id='3a03f0e2-d8da-42ac-83c8-c8a350b6a40f'),\n",
      "                        AIMessage(content='Hello! If \"None\" refers to someone specific or if it\\'s just a placeholder, I\\'m here to help. Let me know if you need anything!', additional_kwargs={'refusal': None}, response_metadata={'token_usage': {'completion_tokens': 31, 'prompt_tokens': 103, 'total_tokens': 134, 'completion_tokens_details': {'accepted_prediction_tokens': 0, 'audio_tokens': 0, 'reasoning_tokens': 0, 'rejected_prediction_tokens': 0}, 'prompt_tokens_details': {'audio_tokens': 0, 'cached_tokens': 0}}, 'model_name': 'gpt-4o-mini-2024-07-18', 'system_fingerprint': 'fp_92e0377081', 'id': 'chatcmpl-Ba0Gdzu3mSQXzVyQkAGS2QgkmQysA', 'service_tier': 'default', 'finish_reason': 'stop', 'logprobs': None}, id='run--5eb49c8c-2144-4533-a16e-95d47f7ed6c5-0', usage_metadata={'input_tokens': 103, 'output_tokens': 31, 'total_tokens': 134, 'input_token_details': {'audio': 0, 'cache_read': 0}, 'output_token_details': {'audio': 0, 'reasoning': 0}})],\n",
      "           'outputs': <Recursion on dict with id=4624179264>}}\n"
     ]
    }
   ],
   "source": [
    "from pprint import pprint\n",
    "\n",
    "\n",
    "telegram_node = MessageTelegram(\n",
    "    name=\"MessageTelegram\",\n",
    "    token=os.getenv(\"TELEGRAM_TOKEN\"),\n",
    ")\n",
    "\n",
    "agent_node = Agent(\n",
    "    name=\"agent\",\n",
    "    model_config=model_config,\n",
    "    tools=[telegram_node.tool_run],\n",
    "    system_prompt=\"Your name is John Doe.\",\n",
    "    checkpointer=\"memory\",\n",
    ")\n",
    "\n",
    "config = {\"configurable\": {\"thread_id\": \"123\"}}\n",
    "result = await agent_node(\n",
    "    {\n",
    "        \"messages\": [\n",
    "            {\"role\": \"user\", \"content\": f\"Say hello to {os.getenv('TELEGRAM_CHAT_ID')}\"}\n",
    "        ]\n",
    "    },\n",
    "    config,\n",
    ")\n",
    "\n",
    "pprint(result[\"outputs\"])"
   ]
  }
 ],
 "metadata": {
  "kernelspec": {
   "display_name": ".venv",
   "language": "python",
   "name": "python3"
  },
  "language_info": {
   "codemirror_mode": {
    "name": "ipython",
    "version": 3
   },
   "file_extension": ".py",
   "mimetype": "text/x-python",
   "name": "python",
   "nbconvert_exporter": "python",
   "pygments_lexer": "ipython3",
   "version": "3.12.6"
  }
 },
 "nbformat": 4,
 "nbformat_minor": 2
}
