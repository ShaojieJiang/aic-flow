{
 "cells": [
  {
   "cell_type": "markdown",
   "metadata": {},
   "source": [
    "# Example of using Agent node"
   ]
  },
  {
   "cell_type": "code",
   "execution_count": null,
   "metadata": {},
   "outputs": [],
   "source": [
    "import os\n",
    "from dotenv import load_dotenv\n",
    "from aic_flow.nodes.ai import Agent\n",
    "\n",
    "\n",
    "load_dotenv()\n",
    "\n",
    "\n",
    "model_config = {\n",
    "    \"model\": \"gpt-4o-mini\",\n",
    "    \"api_key\": os.getenv(\"OPENAI_API_KEY\"),\n",
    "}"
   ]
  },
  {
   "cell_type": "markdown",
   "metadata": {},
   "source": [
    "## Structured output with vanilla JSON dict"
   ]
  },
  {
   "cell_type": "code",
   "execution_count": 2,
   "metadata": {},
   "outputs": [
    {
     "data": {
      "text/plain": [
       "{'name': 'Jane Smith'}"
      ]
     },
     "execution_count": 2,
     "metadata": {},
     "output_type": "execute_result"
    }
   ],
   "source": [
    "so_schema = \"\"\"\n",
    "json_dict = {\n",
    "    \"type\": \"object\",\n",
    "    \"title\": \"Person\",\n",
    "    \"description\": \"A person\",\n",
    "    \"properties\": {\n",
    "        \"name\": {\"type\": \"string\"},\n",
    "    },\n",
    "    \"required\": [\"name\"],\n",
    "}\n",
    "\"\"\"\n",
    "\n",
    "so_config = {\n",
    "    \"type\": \"json_dict\",\n",
    "    \"schema\": so_schema,\n",
    "}\n",
    "\n",
    "agent_node = Agent(\n",
    "    name=\"agent\",\n",
    "    model_config=model_config,\n",
    "    structured_output=so_config,\n",
    "    system_prompt=\"Your name is John Doe.\",\n",
    "    checkpointer=\"memory\",\n",
    ")\n",
    "config = {\"configurable\": {\"thread_id\": \"123\"}}\n",
    "result = await agent_node(\n",
    "    {\"messages\": [{\"role\": \"user\", \"content\": \"What's your name?\"}]}, config\n",
    ")\n",
    "\n",
    "result[\"structured_response\"]"
   ]
  },
  {
   "cell_type": "markdown",
   "metadata": {},
   "source": [
    "## Structured output with OpenAI JSON dict"
   ]
  },
  {
   "cell_type": "code",
   "execution_count": 3,
   "metadata": {},
   "outputs": [
    {
     "data": {
      "text/plain": [
       "{'name': 'John Doe'}"
      ]
     },
     "execution_count": 3,
     "metadata": {},
     "output_type": "execute_result"
    }
   ],
   "source": [
    "so_schema = \"\"\"\n",
    "oai_json_schema = {\n",
    "    \"name\": \"get_person\",\n",
    "    \"strict\": True,\n",
    "    \"schema\": {\n",
    "        \"type\": \"object\",\n",
    "        \"properties\": {\"name\": {\"type\": \"string\"}},\n",
    "        \"additionalProperties\": False,\n",
    "        \"required\": [\"name\"],\n",
    "    },\n",
    "}\n",
    "\"\"\"\n",
    "\n",
    "so_config = {\n",
    "    \"type\": \"json_dict\",\n",
    "    \"schema\": so_schema,\n",
    "}\n",
    "\n",
    "agent_node = Agent(\n",
    "    name=\"agent\",\n",
    "    model_config=model_config,\n",
    "    structured_output=so_config,\n",
    "    system_prompt=\"Your name is John Doe.\",\n",
    "    checkpointer=\"memory\",\n",
    ")\n",
    "config = {\"configurable\": {\"thread_id\": \"123\"}}\n",
    "result = await agent_node(\n",
    "    {\"messages\": [{\"role\": \"user\", \"content\": \"What's your name?\"}]}, config\n",
    ")\n",
    "\n",
    "result[\"structured_response\"]"
   ]
  },
  {
   "cell_type": "markdown",
   "metadata": {},
   "source": [
    "## Structured output with Pydantic Models"
   ]
  },
  {
   "cell_type": "code",
   "execution_count": 4,
   "metadata": {},
   "outputs": [
    {
     "data": {
      "text/plain": [
       "Person(name='John Doe')"
      ]
     },
     "execution_count": 4,
     "metadata": {},
     "output_type": "execute_result"
    }
   ],
   "source": [
    "so_schema = \"\"\"\n",
    "class Person(BaseModel):\n",
    "    \\\"\\\"\\\"A Person.\\\"\\\"\\\"\n",
    "\n",
    "    name: str\n",
    "\"\"\"\n",
    "\n",
    "so_config = {\n",
    "    \"type\": \"json_dict\",\n",
    "    \"schema\": so_schema,\n",
    "}\n",
    "\n",
    "agent_node = Agent(\n",
    "    name=\"agent\",\n",
    "    model_config=model_config,\n",
    "    structured_output=so_config,\n",
    "    system_prompt=\"Your name is John Doe.\",\n",
    "    checkpointer=\"memory\",\n",
    ")\n",
    "config = {\"configurable\": {\"thread_id\": \"123\"}}\n",
    "result = await agent_node(\n",
    "    {\"messages\": [{\"role\": \"user\", \"content\": \"What's your name?\"}]}, config\n",
    ")\n",
    "\n",
    "result[\"structured_response\"]"
   ]
  },
  {
   "cell_type": "markdown",
   "metadata": {},
   "source": [
    "## Structured output with Typed dict"
   ]
  },
  {
   "cell_type": "code",
   "execution_count": 5,
   "metadata": {},
   "outputs": [
    {
     "data": {
      "text/plain": [
       "{'name': 'John Doe'}"
      ]
     },
     "execution_count": 5,
     "metadata": {},
     "output_type": "execute_result"
    }
   ],
   "source": [
    "so_schema = \"\"\"\n",
    "class Person(TypedDict):\n",
    "    \\\"\\\"\\\"A Person.\\\"\\\"\\\"\n",
    "\n",
    "    name: str\n",
    "\"\"\"\n",
    "\n",
    "so_config = {\n",
    "    \"type\": \"json_dict\",\n",
    "    \"schema\": so_schema,\n",
    "}\n",
    "\n",
    "agent_node = Agent(\n",
    "    name=\"agent\",\n",
    "    model_config=model_config,\n",
    "    structured_output=so_config,\n",
    "    system_prompt=\"Your name is John Doe.\",\n",
    "    checkpointer=\"memory\",\n",
    ")\n",
    "config = {\"configurable\": {\"thread_id\": \"123\"}}\n",
    "result = await agent_node(\n",
    "    {\"messages\": [{\"role\": \"user\", \"content\": \"What's your name?\"}]}, config\n",
    ")\n",
    "\n",
    "result[\"structured_response\"]"
   ]
  }
 ],
 "metadata": {
  "kernelspec": {
   "display_name": ".venv",
   "language": "python",
   "name": "python3"
  },
  "language_info": {
   "codemirror_mode": {
    "name": "ipython",
    "version": 3
   },
   "file_extension": ".py",
   "mimetype": "text/x-python",
   "name": "python",
   "nbconvert_exporter": "python",
   "pygments_lexer": "ipython3",
   "version": "3.12.6"
  }
 },
 "nbformat": 4,
 "nbformat_minor": 2
}
