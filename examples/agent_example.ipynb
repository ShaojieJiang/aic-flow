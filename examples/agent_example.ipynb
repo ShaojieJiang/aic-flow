{
 "cells": [
  {
   "cell_type": "markdown",
   "metadata": {},
   "source": [
    "# Example of using Agent node"
   ]
  },
  {
   "cell_type": "code",
   "execution_count": 1,
   "metadata": {},
   "outputs": [],
   "source": [
    "import os\n",
    "from dotenv import load_dotenv\n",
    "from aic_flow.nodes.ai import Agent\n",
    "from aic_flow.nodes.telegram import MessageTelegram\n",
    "\n",
    "\n",
    "load_dotenv()\n",
    "\n",
    "\n",
    "model_settings = {\n",
    "    \"model\": \"gpt-4o-mini\",\n",
    "    \"api_key\": os.getenv(\"OPENAI_API_KEY\"),\n",
    "}"
   ]
  },
  {
   "cell_type": "markdown",
   "metadata": {},
   "source": [
    "## Structured output with vanilla JSON dict"
   ]
  },
  {
   "cell_type": "code",
   "execution_count": 2,
   "metadata": {},
   "outputs": [
    {
     "data": {
      "text/plain": [
       "{'name': 'John Doe'}"
      ]
     },
     "execution_count": 2,
     "metadata": {},
     "output_type": "execute_result"
    }
   ],
   "source": [
    "so_schema = \"\"\"\n",
    "json_dict = {\n",
    "    \"type\": \"object\",\n",
    "    \"title\": \"Person\",\n",
    "    \"description\": \"A person\",\n",
    "    \"properties\": {\n",
    "        \"name\": {\"type\": \"string\"},\n",
    "    },\n",
    "    \"required\": [\"name\"],\n",
    "}\n",
    "\"\"\"\n",
    "\n",
    "so_config = {\n",
    "    \"schema_type\": \"json_dict\",\n",
    "    \"schema_str\": so_schema,\n",
    "}\n",
    "\n",
    "agent_node = Agent(\n",
    "    name=\"agent\",\n",
    "    model_settings=model_settings,\n",
    "    structured_output=so_config,\n",
    "    system_prompt=\"Your name is John Doe.\",\n",
    "    checkpointer=\"memory\",\n",
    ")\n",
    "config = {\"configurable\": {\"thread_id\": \"123\"}}\n",
    "result = await agent_node(  # noqa: F704, PLE1142\n",
    "    {\"messages\": [{\"role\": \"user\", \"content\": \"What's your name?\"}]}, config\n",
    ")\n",
    "\n",
    "result[\"structured_response\"]"
   ]
  },
  {
   "cell_type": "markdown",
   "metadata": {},
   "source": [
    "## Structured output with OpenAI JSON dict"
   ]
  },
  {
   "cell_type": "code",
   "execution_count": 3,
   "metadata": {},
   "outputs": [
    {
     "data": {
      "text/plain": [
       "{'name': 'John Doe'}"
      ]
     },
     "execution_count": 3,
     "metadata": {},
     "output_type": "execute_result"
    }
   ],
   "source": [
    "so_schema = \"\"\"\n",
    "oai_json_schema = {\n",
    "    \"name\": \"get_person\",\n",
    "    \"strict\": True,\n",
    "    \"schema\": {\n",
    "        \"type\": \"object\",\n",
    "        \"properties\": {\"name\": {\"type\": \"string\"}},\n",
    "        \"additionalProperties\": False,\n",
    "        \"required\": [\"name\"],\n",
    "    },\n",
    "}\n",
    "\"\"\"\n",
    "\n",
    "so_config = {\n",
    "    \"schema_type\": \"json_dict\",\n",
    "    \"schema_str\": so_schema,\n",
    "}\n",
    "\n",
    "agent_node = Agent(\n",
    "    name=\"agent\",\n",
    "    model_settings=model_settings,\n",
    "    structured_output=so_config,\n",
    "    system_prompt=\"Your name is John Doe.\",\n",
    "    checkpointer=\"memory\",\n",
    ")\n",
    "config = {\"configurable\": {\"thread_id\": \"123\"}}\n",
    "result = await agent_node(  # noqa: F704, PLE1142\n",
    "    {\"messages\": [{\"role\": \"user\", \"content\": \"What's your name?\"}]}, config\n",
    ")\n",
    "\n",
    "result[\"structured_response\"]"
   ]
  },
  {
   "cell_type": "markdown",
   "metadata": {},
   "source": [
    "## Structured output with Pydantic Models"
   ]
  },
  {
   "cell_type": "code",
   "execution_count": 4,
   "metadata": {},
   "outputs": [
    {
     "data": {
      "text/plain": [
       "Person(name='John Doe')"
      ]
     },
     "execution_count": 4,
     "metadata": {},
     "output_type": "execute_result"
    }
   ],
   "source": [
    "so_schema = \"\"\"\n",
    "class Person(BaseModel):\n",
    "    \\\"\\\"\\\"A Person.\\\"\\\"\\\"\n",
    "\n",
    "    name: str\n",
    "\"\"\"\n",
    "\n",
    "so_config = {\n",
    "    \"schema_type\": \"json_dict\",\n",
    "    \"schema_str\": so_schema,\n",
    "}\n",
    "\n",
    "agent_node = Agent(\n",
    "    name=\"agent\",\n",
    "    model_settings=model_settings,\n",
    "    structured_output=so_config,\n",
    "    system_prompt=\"Your name is John Doe.\",\n",
    "    checkpointer=\"memory\",\n",
    ")\n",
    "config = {\"configurable\": {\"thread_id\": \"123\"}}\n",
    "result = await agent_node(  # noqa: F704, PLE1142\n",
    "    {\"messages\": [{\"role\": \"user\", \"content\": \"What's your name?\"}]}, config\n",
    ")\n",
    "\n",
    "result[\"structured_response\"]"
   ]
  },
  {
   "cell_type": "markdown",
   "metadata": {},
   "source": [
    "## Structured output with Typed dict"
   ]
  },
  {
   "cell_type": "code",
   "execution_count": 5,
   "metadata": {},
   "outputs": [
    {
     "data": {
      "text/plain": [
       "{'name': 'John Doe'}"
      ]
     },
     "execution_count": 5,
     "metadata": {},
     "output_type": "execute_result"
    }
   ],
   "source": [
    "so_schema = \"\"\"\n",
    "class Person(TypedDict):\n",
    "    \\\"\\\"\\\"A Person.\\\"\\\"\\\"\n",
    "\n",
    "    name: str\n",
    "\"\"\"\n",
    "\n",
    "so_config = {\n",
    "    \"schema_type\": \"typed_dict\",\n",
    "    \"schema_str\": so_schema,\n",
    "}\n",
    "\n",
    "agent_node = Agent(\n",
    "    name=\"agent\",\n",
    "    model_settings=model_settings,\n",
    "    structured_output=so_config,\n",
    "    system_prompt=\"Your name is John Doe.\",\n",
    "    checkpointer=\"memory\",\n",
    ")\n",
    "config = {\"configurable\": {\"thread_id\": \"123\"}}\n",
    "result = await agent_node(  # noqa: F704, PLE1142\n",
    "    {\"messages\": [{\"role\": \"user\", \"content\": \"What's your name?\"}]}, config\n",
    ")\n",
    "\n",
    "result[\"structured_response\"]"
   ]
  },
  {
   "cell_type": "markdown",
   "metadata": {},
   "source": [
    "## Use a node as a tool"
   ]
  },
  {
   "cell_type": "markdown",
   "metadata": {},
   "source": [
    "Main differences of a graph node and a function tool: A graph node only\n",
    "receives `state: dict` as input, and returns a dict, while a function tool\n",
    "can have arbitrary inputs."
   ]
  },
  {
   "cell_type": "code",
   "execution_count": 6,
   "metadata": {},
   "outputs": [
    {
     "data": {
      "text/plain": [
       "ToolMessage(content='{\"message_id\": 532, \"status\": \"sent\"}', name='MessageTelegram', id='7079dc64-e766-40b3-86ba-0172c644dff0', tool_call_id='call_KqrJqEqle5TImLTQOPB4ob6c')"
      ]
     },
     "execution_count": 6,
     "metadata": {},
     "output_type": "execute_result"
    }
   ],
   "source": [
    "telegram_node = MessageTelegram(\n",
    "    name=\"MessageTelegram\",\n",
    "    token=os.getenv(\"TELEGRAM_TOKEN\"),\n",
    ")\n",
    "\n",
    "agent_node = Agent(\n",
    "    name=\"agent\",\n",
    "    model_settings=model_settings,\n",
    "    tools=[telegram_node],\n",
    "    system_prompt=\"Your name is John Doe.\",\n",
    "    checkpointer=\"memory\",\n",
    ")\n",
    "\n",
    "config = {\"configurable\": {\"thread_id\": \"123\"}}\n",
    "result = await agent_node(  # noqa: F704, PLE1142\n",
    "    {\n",
    "        \"messages\": [\n",
    "            {\n",
    "                \"role\": \"user\",\n",
    "                \"content\": (\n",
    "                    f\"Say hello to {os.getenv('TELEGRAM_CHAT_ID')} using \"\n",
    "                    \"message_telegram tool\"\n",
    "                ),\n",
    "            }\n",
    "        ]\n",
    "    },\n",
    "    config,\n",
    ")\n",
    "\n",
    "result[\"messages\"][-2]"
   ]
  }
 ],
 "metadata": {
  "kernelspec": {
   "display_name": ".venv",
   "language": "python",
   "name": "python3"
  },
  "language_info": {
   "codemirror_mode": {
    "name": "ipython",
    "version": 3
   },
   "file_extension": ".py",
   "mimetype": "text/x-python",
   "name": "python",
   "nbconvert_exporter": "python",
   "pygments_lexer": "ipython3",
   "version": "3.12.6"
  }
 },
 "nbformat": 4,
 "nbformat_minor": 2
}
